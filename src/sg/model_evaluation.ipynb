{
 "cells": [
  {
   "cell_type": "code",
   "execution_count": 1,
   "id": "5d8f749f",
   "metadata": {},
   "outputs": [
    {
     "name": "stdout",
     "output_type": "stream",
     "text": [
      "Using GPU (Windows)\n"
     ]
    }
   ],
   "source": [
    "import torch\n",
    "if torch.cuda.is_available():\n",
    "    device = torch.device(\"cuda\")\n",
    "    print('Using GPU (Windows)')\n",
    "elif torch.backends.mps.is_available():\n",
    "    device = torch.device(\"mps\")\n",
    "    print('Using GPU (Mac)')\n",
    "else:\n",
    "    device = torch.device(\"cpu\")\n",
    "    print('Using CPU')\n",
    "\n",
    "from torch import nn\n",
    "from torch.utils.data import Dataset, DataLoader\n",
    "from torch.nn.utils.rnn import pad_sequence\n",
    "\n",
    "import math\n",
    "from transformers import GPT2LMHeadModel, GPT2Config\n",
    "from transformers import Trainer, TrainingArguments\n",
    "\n",
    "\n",
    "\n",
    "import json\n",
    "from pathlib import Path\n",
    "import os\n",
    "from typing import List\n",
    "\n",
    "# Load miditok tokenizer\n",
    "from miditok import REMI, TokenizerConfig, TokSequence\n",
    "from miditoolkit import MidiFile, Instrument, Note\n",
    "from miditok.pytorch_data import DatasetJSON\n",
    "\n",
    "\n"
   ]
  },
  {
   "cell_type": "code",
   "execution_count": 7,
   "id": "85b35917",
   "metadata": {},
   "outputs": [
    {
     "name": "stderr",
     "output_type": "stream",
     "text": [
      "c:\\Users\\garve\\anaconda3\\envs\\dsc\\Lib\\site-packages\\miditok\\tokenizations\\remi.py:88: UserWarning: Attribute controls are not compatible with 'config.one_token_stream_for_programs' and multi-vocabulary tokenizers. Disabling them from the config.\n",
      "  super().__init__(tokenizer_config, params)\n"
     ]
    }
   ],
   "source": [
    "tokenizer = REMI.from_pretrained(\"tokenizer.json\")\n",
    "\n",
    "class MIDITokenDataset(Dataset):\n",
    "    def __init__(self, files_paths, bos_token_id=None, eos_token_id=None, max_seq_len=1024):\n",
    "        self.paths = files_paths\n",
    "        self.bos = bos_token_id\n",
    "        self.eos = eos_token_id\n",
    "        self.max_seq_len = max_seq_len\n",
    "\n",
    "    def __len__(self):\n",
    "        return len(self.paths)\n",
    "\n",
    "    def __getitem__(self, idx):\n",
    "        # Load list of ids\n",
    "        with open(self.paths[idx], \"r\") as f:\n",
    "            ids = json.load(f)\n",
    "\n",
    "        # Wrap in TokSequence (optional — just to stay consistent)\n",
    "        seq = TokSequence(ids=ids)\n",
    "\n",
    "        # Add BOS and EOS if specified\n",
    "        tokens = []\n",
    "        if self.bos is not None:\n",
    "            tokens.append(self.bos)\n",
    "        tokens += seq.ids\n",
    "        if self.eos is not None:\n",
    "            tokens.append(self.eos)\n",
    "\n",
    "        # Truncate or pad as needed\n",
    "        tokens = tokens[:self.max_seq_len]\n",
    "\n",
    "        return torch.tensor(tokens)\n",
    "\n",
    "    \n",
    "class MIDIDataCollator:\n",
    "    def __init__(self, pad_token_id):\n",
    "        self.pad_token_id = pad_token_id\n",
    "\n",
    "    def __call__(self, batch):\n",
    "        # batch: list of 1D tensors\n",
    "        input_ids_padded = pad_sequence(batch, batch_first=True, padding_value=self.pad_token_id)\n",
    "        labels_padded = input_ids_padded.clone()  # copy for labels\n",
    "\n",
    "        return {\n",
    "            \"input_ids\": input_ids_padded,\n",
    "            \"labels\": labels_padded,\n",
    "            \"attention_mask\": (input_ids_padded != self.pad_token_id).long(),\n",
    "        }\n",
    "\n",
    "\n",
    "\n",
    "data_collator = MIDIDataCollator(tokenizer['PAD_None'])\n",
    "right_hand_jsons = list(Path(\"tokenized_json/right_hand\").glob(\"*.json\"))\n",
    "\n",
    "dataset = MIDITokenDataset(\n",
    "    files_paths=right_hand_jsons,\n",
    "    bos_token_id = tokenizer[\"BOS\"] if \"BOS\" in tokenizer.special_tokens else tokenizer.vocab[\"BOS_None\"],\n",
    "    eos_token_id = tokenizer[\"EOS\"] if \"EOS\" in tokenizer.special_tokens else tokenizer.vocab[\"EOS_None\"],\n",
    "    max_seq_len=512*2\n",
    ")\n"
   ]
  },
  {
   "cell_type": "code",
   "execution_count": 9,
   "id": "8c89efe9",
   "metadata": {},
   "outputs": [
    {
     "name": "stdout",
     "output_type": "stream",
     "text": [
      "Perplexity: 1.01\n"
     ]
    }
   ],
   "source": [
    "model = GPT2LMHeadModel.from_pretrained(\"model_weights\").to(device)\n",
    "\n",
    "bos_token_id = tokenizer[\"BOS\"] if \"BOS\" in tokenizer.special_tokens else tokenizer.vocab[\"BOS_None\"]\n",
    "eos_token_id = tokenizer[\"EOS\"] if \"EOS\" in tokenizer.special_tokens else tokenizer.vocab[\"EOS_None\"]\n",
    "\n",
    "# Dataset and DataLoader\n",
    "loader = DataLoader(dataset, batch_size=4, shuffle=False, collate_fn=data_collator)\n",
    "\n",
    "def compute_perplexity(model, dataloader, device='cuda'):\n",
    "    model.eval()\n",
    "    model.to(device)\n",
    "    total_loss = 0.0\n",
    "    total_tokens = 0\n",
    "\n",
    "    with torch.no_grad():\n",
    "        for batch in dataloader:\n",
    "            input_ids = batch['input_ids'].to(device)\n",
    "            labels = batch['labels'].to(device)\n",
    "            attention_mask = batch['attention_mask'].to(device)\n",
    "\n",
    "            outputs = model(input_ids=input_ids, attention_mask=attention_mask, labels=labels)\n",
    "            loss = outputs.loss\n",
    "            # Count tokens ignoring padding:\n",
    "            num_tokens = attention_mask.sum().item()\n",
    "\n",
    "            total_loss += loss.item() * num_tokens\n",
    "            total_tokens += num_tokens\n",
    "\n",
    "    avg_loss = total_loss / total_tokens\n",
    "    perplexity = math.exp(avg_loss)\n",
    "    return perplexity\n",
    "\n",
    "\n",
    "# Evaluate\n",
    "ppl = compute_perplexity(model, loader, device=device)\n",
    "print(f\"Perplexity: {ppl:.2f}\")"
   ]
  },
  {
   "cell_type": "code",
   "execution_count": null,
   "id": "83100677",
   "metadata": {},
   "outputs": [],
   "source": []
  }
 ],
 "metadata": {
  "kernelspec": {
   "display_name": "dsc",
   "language": "python",
   "name": "python3"
  },
  "language_info": {
   "codemirror_mode": {
    "name": "ipython",
    "version": 3
   },
   "file_extension": ".py",
   "mimetype": "text/x-python",
   "name": "python",
   "nbconvert_exporter": "python",
   "pygments_lexer": "ipython3",
   "version": "3.12.3"
  }
 },
 "nbformat": 4,
 "nbformat_minor": 5
}
